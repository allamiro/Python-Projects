{
  "nbformat": 4,
  "nbformat_minor": 0,
  "metadata": {
    "colab": {
      "name": "HKalgorithm-CSI780.ipynb",
      "provenance": [],
      "collapsed_sections": []
    },
    "kernelspec": {
      "name": "python3",
      "display_name": "Python 3"
    },
    "language_info": {
      "name": "python"
    }
  },
  "cells": [
    {
      "cell_type": "code",
      "metadata": {
        "id": "-3C1-bT4I5Ml"
      },
      "source": [
        "from pylab import *"
      ],
      "execution_count": 31,
      "outputs": []
    },
    {
      "cell_type": "code",
      "metadata": {
        "id": "LOf_P7x0BReB"
      },
      "source": [
        "# the find operation is performed to find a representative member of that equivalence class with which the current cell will be labeled.\n",
        "# On the other hand, if the current cell has no neighbors, it is assigned a new, previously unused, label.\n",
        "def find(x):\n",
        "  y = x\n",
        "  while labels[y] != y:\n",
        "    y = labels[y]\n",
        "  while labels[x] != x:\n",
        "    z = labels[x]\n",
        "    labels[x] = y\n",
        "    x = z\n",
        "  return y"
      ],
      "execution_count": 30,
      "outputs": []
    },
    {
      "cell_type": "code",
      "metadata": {
        "id": "-lq7LLPnB1F0"
      },
      "source": [
        "# the union operation is performed, to specify that these neighboring cells are in fact members of the same equivalence clas\n",
        "\n",
        "def union(x,y):\n",
        "  labels[find(x)]= find(y)\n"
      ],
      "execution_count": 18,
      "outputs": []
    },
    {
      "cell_type": "code",
      "metadata": {
        "colab": {
          "base_uri": "https://localhost:8080/"
        },
        "id": "xvBMYYaK_s7T",
        "outputId": "21738fb7-dce0-403f-b9dd-90b3463a8e70"
      },
      "source": [
        "import numpy as np\n",
        "p =  0.2 # Probaility of occupancy\n",
        "L = 8   # Lattice Size \n",
        "largest_label = 0\n",
        "\n",
        "label = np.random.randint(2, size=(L,L))\n",
        "label = label < p    # Generate a matrix with proability of occupancy P \n",
        "label = label.astype(int)# Convert True and False Matrix to 0 and 1 where 0 means empty and 1 means occupied cell\n",
        "print(label)\n",
        "\n",
        "#In this matrix, 1's represent occupied cells; 0's are unoccupied cells."
      ],
      "execution_count": 50,
      "outputs": [
        {
          "output_type": "stream",
          "name": "stdout",
          "text": [
            "[[0 0 0 1 0 0 0 0]\n",
            " [0 1 0 0 1 1 1 1]\n",
            " [0 0 1 0 0 1 0 1]\n",
            " [0 1 0 1 0 0 0 1]\n",
            " [0 1 1 1 0 0 1 0]\n",
            " [1 1 1 1 0 1 1 0]\n",
            " [0 1 1 1 0 1 0 1]\n",
            " [0 1 0 0 1 0 1 1]]\n"
          ]
        }
      ]
    },
    {
      "cell_type": "code",
      "metadata": {
        "colab": {
          "base_uri": "https://localhost:8080/",
          "height": 265
        },
        "id": "2iu0PQewLlIf",
        "outputId": "df407586-91a6-4666-c3a8-ba7c43700cc2"
      },
      "source": [
        "imshow(label, origin='lower')\n",
        "show()"
      ],
      "execution_count": 51,
      "outputs": [
        {
          "output_type": "display_data",
          "data": {
            "image/png": "[encoded data removed]",
            "text/plain": [
              "<Figure size 432x288 with 1 Axes>"
            ]
          },
          "metadata": {
            "needs_background": "light"
          }
        }
      ]
    },
    {
      "cell_type": "code",
      "metadata": {
        "colab": {
          "base_uri": "https://localhost:8080/",
          "height": 269
        },
        "id": "oaqND-gFMi0W",
        "outputId": "f81c130e-339c-4981-ddc8-cd9c2623fd25"
      },
      "source": [
        "import matplotlib.pyplot as plt\n",
        "fig, ax = plt.subplots()\n",
        "min_val, max_val = 0, L\n",
        "ax.matshow(label, cmap=plt.cm.Blues)\n",
        "\n",
        "for i in range(L):\n",
        "    for j in range(L):\n",
        "        c = label[j,i]\n",
        "        ax.text(i, j, str(c), va='center', ha='center')\n"
      ],
      "execution_count": 52,
      "outputs": [
        {
          "output_type": "display_data",
          "data": {
            "image/png": "[encoded data removed]",
            "text/plain": [
              "<Figure size 432x288 with 1 Axes>"
            ]
          },
          "metadata": {
            "needs_background": "light"
          }
        }
      ]
    },
    {
      "cell_type": "code",
      "metadata": {
        "colab": {
          "base_uri": "https://localhost:8080/"
        },
        "id": "pEmrYRZYAPMR",
        "outputId": "5cca6105-e989-4940-a9a7-a76360d3faa2"
      },
      "source": [
        "labels = np.arange(0,L*L)\n",
        "print(labels)"
      ],
      "execution_count": 53,
      "outputs": [
        {
          "output_type": "stream",
          "name": "stdout",
          "text": [
            "[ 0  1  2  3  4  5  6  7  8  9 10 11 12 13 14 15 16 17 18 19 20 21 22 23\n",
            " 24 25 26 27 28 29 30 31 32 33 34 35 36 37 38 39 40 41 42 43 44 45 46 47\n",
            " 48 49 50 51 52 53 54 55 56 57 58 59 60 61 62 63]\n"
          ]
        }
      ]
    },
    {
      "cell_type": "code",
      "metadata": {
        "id": "QiFRobi_AgTB"
      },
      "source": [
        "\n",
        "# Raster Scan and Labeling on the Grid\n",
        "\n",
        "for x in range(L):\n",
        "  for y in range(L):\n",
        "    if label[x][y] == 1:\n",
        "      left = label[x-1][y]\n",
        "      above =label[x][y-1]\n",
        "      if (left== 0) and (above == 0):      # Neither a label above nor to the left.\n",
        "        largest_label = largest_label + 1  # Make a new, as-yet-unused cluster label.\n",
        "        label[x][y] = largest_label \n",
        "      elif (left != 0) and (above == 0):   # One neighbor, to the left\n",
        "        label[x][y] = find(left)\n",
        "      elif (left == 0) and (above != 0):   # One neighbor, above.\n",
        "        label[x][y] = find(above)          # \n",
        "      else:                                #  Neighbors BOTH to the left and above.\n",
        "        union(left,above)                  # Link the left and above clusters.\n",
        "        label[x][y] = find(left)\n",
        "\n",
        "\n"
      ],
      "execution_count": 54,
      "outputs": []
    },
    {
      "cell_type": "code",
      "metadata": {
        "colab": {
          "base_uri": "https://localhost:8080/"
        },
        "id": "2OzYmJGiBQDX",
        "outputId": "d688aabb-c2be-4d6a-ba1c-37664d4946d2"
      },
      "source": [
        "print(label)"
      ],
      "execution_count": 55,
      "outputs": [
        {
          "output_type": "stream",
          "name": "stdout",
          "text": [
            "[[ 0  0  0  1  0  0  0  0]\n",
            " [ 0  2  0  0  3  3  3  3]\n",
            " [ 0  0  4  0  0  3  0  3]\n",
            " [ 0  5  0  6  0  0  0  3]\n",
            " [ 0  5  5  5  0  0  7  0]\n",
            " [ 8  8  8  8  0  9  9  0]\n",
            " [ 0  8  8  8  0  9  0 10]\n",
            " [ 0  8  0  0 11  0 12 12]]\n"
          ]
        }
      ]
    },
    {
      "cell_type": "code",
      "metadata": {
        "colab": {
          "base_uri": "https://localhost:8080/",
          "height": 265
        },
        "id": "tBCzN0ORIuPf",
        "outputId": "1e7656d9-5a05-401e-ab6e-02a2de5dd14b"
      },
      "source": [
        "imshow(label, origin='lower')\n",
        "show()"
      ],
      "execution_count": 56,
      "outputs": [
        {
          "output_type": "display_data",
          "data": {
            "image/png": "[encoded data removed]",
            "text/plain": [
              "<Figure size 432x288 with 1 Axes>"
            ]
          },
          "metadata": {
            "needs_background": "light"
          }
        }
      ]
    },
    {
      "cell_type": "code",
      "metadata": {
        "colab": {
          "base_uri": "https://localhost:8080/",
          "height": 269
        },
        "id": "WZh2eAIHNeHW",
        "outputId": "86618d55-cb6f-4b26-b40f-97a94b738007"
      },
      "source": [
        "import matplotlib.pyplot as plt\n",
        "fig, ax = plt.subplots()\n",
        "min_val, max_val = 0, L\n",
        "ax.matshow(label, cmap=plt.cm.Blues)\n",
        "\n",
        "\n",
        "for i in range(L):\n",
        "    for j in range(L):\n",
        "        c = label[j,i]\n",
        "        ax.text(i, j, str(c), va='center', ha='center')\n",
        "# This is the result of applying the Hoshen-Kopelman algorithm to the grid on the left. Contiguous clusters are labeled."
      ],
      "execution_count": 57,
      "outputs": [
        {
          "output_type": "display_data",
          "data": {
            "image/png": "[encoded data removed]",
            "text/plain": [
              "<Figure size 432x288 with 1 Axes>"
            ]
          },
          "metadata": {
            "needs_background": "light"
          }
        }
      ]
    },
    {
      "cell_type": "markdown",
      "metadata": {
        "id": "3XS3nzo9Prhn"
      },
      "source": [
        "References :\n",
        "  \n",
        "\n",
        "1.  https://stackoverflow.com/questions/40887\n",
        "2.  https://en.wikipedia.org/wiki/Hoshen%E2%80%93Kopelman_algorit\n",
        "\n",
        "display-matrix-values-and-colormap')"
      ]
    }
  ]
}
